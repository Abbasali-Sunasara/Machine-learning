{
 "cells": [
  {
   "cell_type": "code",
   "execution_count": 1,
   "id": "00e66c4a-1dc6-4e38-a07c-df13186532ae",
   "metadata": {},
   "outputs": [],
   "source": [
    "import math"
   ]
  },
  {
   "cell_type": "code",
   "execution_count": 2,
   "id": "4935f30e-99a4-4b79-8214-2e53464cd59f",
   "metadata": {},
   "outputs": [
    {
     "name": "stdout",
     "output_type": "stream",
     "text": [
      "False\n",
      "False\n",
      "False\n",
      "False\n",
      "True\n",
      "False\n",
      "False\n",
      "True\n"
     ]
    }
   ],
   "source": [
    "print(math.isnan(56))\n",
    "print(math.isnan(-45.34))\n",
    "print(math.isnan(+45.34))\n",
    "print(math.isnan(math.inf))\n",
    "print(math.isnan(float(\"nan\")))\n",
    "print(math.isnan(float(\"inf\")))\n",
    "print(math.isnan(float(\"-inf\")))\n",
    "print(math.isnan(math.nan))"
   ]
  },
  {
   "cell_type": "code",
   "execution_count": 4,
   "id": "661c2eb2-7506-432b-bc10-236ace8d92ce",
   "metadata": {},
   "outputs": [
    {
     "name": "stdout",
     "output_type": "stream",
     "text": [
      "2\n",
      "(3, 3)\n",
      "9\n"
     ]
    }
   ],
   "source": [
    "import numpy as np\n",
    "x=np.array([[1,2,3],[4,5,6],[7,8,9]])\n",
    "print(x.ndim)\n",
    "print(x.shape)\n",
    "print(x.size)"
   ]
  },
  {
   "cell_type": "code",
   "execution_count": 12,
   "id": "6710aede-6117-4963-a90b-95811cbd7901",
   "metadata": {},
   "outputs": [
    {
     "data": {
      "text/plain": [
       "array([20, 29, 38, 47, 56])"
      ]
     },
     "execution_count": 12,
     "metadata": {},
     "output_type": "execute_result"
    }
   ],
   "source": [
    "a=np.array([20,30,40,50,60])\n",
    "b=np.arange(5)\n",
    "c=a-b\n",
    "c"
   ]
  },
  {
   "cell_type": "code",
   "execution_count": 9,
   "id": "eac9457b-777a-4efe-b9fb-b92098ccbae3",
   "metadata": {},
   "outputs": [
    {
     "name": "stdout",
     "output_type": "stream",
     "text": [
      "3\n",
      "(1, 4, 2)\n",
      "8\n"
     ]
    }
   ],
   "source": [
    "x=np.array([[[1,2],[3,4],[5,6],[7,8]]])\n",
    "print(x.ndim)\n",
    "print(x.shape)\n",
    "print(x.size)"
   ]
  },
  {
   "cell_type": "code",
   "execution_count": 14,
   "id": "d6ed6fe1-09a8-4f27-9833-0ddca95b4ca6",
   "metadata": {},
   "outputs": [
    {
     "name": "stdout",
     "output_type": "stream",
     "text": [
      "3.0\n",
      "15\n",
      "[ 0.84147098  0.90929743  0.14112001 -0.7568025  -0.95892427]\n"
     ]
    }
   ],
   "source": [
    "x=np.array([1,2,3,4,5])\n",
    "avg = x.mean()\n",
    "summ = x.sum()\n",
    "sx=np.sin(x)\n",
    "print(avg)\n",
    "print(summ)\n",
    "print(sx)"
   ]
  },
  {
   "cell_type": "code",
   "execution_count": null,
   "id": "53f9b4e9-33ba-4ce1-a5a0-844cda0135b4",
   "metadata": {},
   "outputs": [],
   "source": []
  }
 ],
 "metadata": {
  "kernelspec": {
   "display_name": "Python 3 (ipykernel)",
   "language": "python",
   "name": "python3"
  },
  "language_info": {
   "codemirror_mode": {
    "name": "ipython",
    "version": 3
   },
   "file_extension": ".py",
   "mimetype": "text/x-python",
   "name": "python",
   "nbconvert_exporter": "python",
   "pygments_lexer": "ipython3",
   "version": "3.12.2"
  }
 },
 "nbformat": 4,
 "nbformat_minor": 5
}
