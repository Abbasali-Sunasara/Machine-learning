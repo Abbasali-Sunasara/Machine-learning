{
 "cells": [
  {
   "cell_type": "code",
   "execution_count": 4,
   "id": "7bf89fc7-e5f0-4a1b-8751-53f9a6f226ff",
   "metadata": {},
   "outputs": [
    {
     "data": {
      "text/html": [
       "<div>\n",
       "<style scoped>\n",
       "    .dataframe tbody tr th:only-of-type {\n",
       "        vertical-align: middle;\n",
       "    }\n",
       "\n",
       "    .dataframe tbody tr th {\n",
       "        vertical-align: top;\n",
       "    }\n",
       "\n",
       "    .dataframe thead th {\n",
       "        text-align: right;\n",
       "    }\n",
       "</style>\n",
       "<table border=\"1\" class=\"dataframe\">\n",
       "  <thead>\n",
       "    <tr style=\"text-align: right;\">\n",
       "      <th></th>\n",
       "      <th>Team</th>\n",
       "      <th>Tournament</th>\n",
       "      <th>Goals Scored</th>\n",
       "      <th>Shots pg</th>\n",
       "      <th>Yellow Cards</th>\n",
       "      <th>Red Cards</th>\n",
       "      <th>Shooting Accuracy</th>\n",
       "      <th>AerialsWon</th>\n",
       "      <th>Rating</th>\n",
       "      <th>Discipline</th>\n",
       "      <th>Own Fouls</th>\n",
       "      <th>Opponent Fouls</th>\n",
       "    </tr>\n",
       "  </thead>\n",
       "  <tbody>\n",
       "    <tr>\n",
       "      <th>0</th>\n",
       "      <td>Manchester City</td>\n",
       "      <td>Premier League</td>\n",
       "      <td>83</td>\n",
       "      <td>15.8</td>\n",
       "      <td>46</td>\n",
       "      <td>2</td>\n",
       "      <td>89.4</td>\n",
       "      <td>12.8</td>\n",
       "      <td>7.01</td>\n",
       "      <td>48</td>\n",
       "      <td>1</td>\n",
       "      <td>1</td>\n",
       "    </tr>\n",
       "    <tr>\n",
       "      <th>1</th>\n",
       "      <td>Bayern Munich</td>\n",
       "      <td>Bundesliga</td>\n",
       "      <td>99</td>\n",
       "      <td>17.1</td>\n",
       "      <td>44</td>\n",
       "      <td>3</td>\n",
       "      <td>85.5</td>\n",
       "      <td>12.9</td>\n",
       "      <td>6.95</td>\n",
       "      <td>47</td>\n",
       "      <td>2</td>\n",
       "      <td>2</td>\n",
       "    </tr>\n",
       "    <tr>\n",
       "      <th>2</th>\n",
       "      <td>Paris Saint-Germain</td>\n",
       "      <td>Ligue 1</td>\n",
       "      <td>86</td>\n",
       "      <td>15.0</td>\n",
       "      <td>73</td>\n",
       "      <td>7</td>\n",
       "      <td>89.5</td>\n",
       "      <td>9.5</td>\n",
       "      <td>6.88</td>\n",
       "      <td>80</td>\n",
       "      <td>3</td>\n",
       "      <td>3</td>\n",
       "    </tr>\n",
       "    <tr>\n",
       "      <th>3</th>\n",
       "      <td>Barcelona</td>\n",
       "      <td>LaLiga</td>\n",
       "      <td>85</td>\n",
       "      <td>15.3</td>\n",
       "      <td>68</td>\n",
       "      <td>2</td>\n",
       "      <td>89.7</td>\n",
       "      <td>10.6</td>\n",
       "      <td>6.87</td>\n",
       "      <td>70</td>\n",
       "      <td>4</td>\n",
       "      <td>5</td>\n",
       "    </tr>\n",
       "    <tr>\n",
       "      <th>4</th>\n",
       "      <td>Real Madrid</td>\n",
       "      <td>LaLiga</td>\n",
       "      <td>67</td>\n",
       "      <td>14.4</td>\n",
       "      <td>57</td>\n",
       "      <td>2</td>\n",
       "      <td>87.7</td>\n",
       "      <td>11.8</td>\n",
       "      <td>6.86</td>\n",
       "      <td>59</td>\n",
       "      <td>5</td>\n",
       "      <td>6</td>\n",
       "    </tr>\n",
       "  </tbody>\n",
       "</table>\n",
       "</div>"
      ],
      "text/plain": [
       "                  Team      Tournament  Goals Scored  Shots pg  Yellow Cards  \\\n",
       "0      Manchester City  Premier League            83      15.8            46   \n",
       "1        Bayern Munich      Bundesliga            99      17.1            44   \n",
       "2  Paris Saint-Germain         Ligue 1            86      15.0            73   \n",
       "3            Barcelona          LaLiga            85      15.3            68   \n",
       "4          Real Madrid          LaLiga            67      14.4            57   \n",
       "\n",
       "   Red Cards  Shooting Accuracy  AerialsWon  Rating  Discipline  Own Fouls  \\\n",
       "0          2               89.4        12.8    7.01          48          1   \n",
       "1          3               85.5        12.9    6.95          47          2   \n",
       "2          7               89.5         9.5    6.88          80          3   \n",
       "3          2               89.7        10.6    6.87          70          4   \n",
       "4          2               87.7        11.8    6.86          59          5   \n",
       "\n",
       "   Opponent Fouls  \n",
       "0               1  \n",
       "1               2  \n",
       "2               3  \n",
       "3               5  \n",
       "4               6  "
      ]
     },
     "execution_count": 4,
     "metadata": {},
     "output_type": "execute_result"
    }
   ],
   "source": [
    "import pandas as pd\n",
    "df=pd.read_csv(\"Files/Football_dataset.csv\")\n",
    "df.head()"
   ]
  },
  {
   "cell_type": "code",
   "execution_count": 5,
   "id": "4ec42aba-6665-4262-bf9f-b294b4b7aad1",
   "metadata": {},
   "outputs": [
    {
     "data": {
      "text/plain": [
       "29"
      ]
     },
     "execution_count": 5,
     "metadata": {},
     "output_type": "execute_result"
    }
   ],
   "source": [
    "df['Team'].nunique()"
   ]
  },
  {
   "cell_type": "code",
   "execution_count": 6,
   "id": "0ffc8205-a975-4ef8-b924-66efe742b8d2",
   "metadata": {},
   "outputs": [
    {
     "name": "stdout",
     "output_type": "stream",
     "text": [
      "Top Teams\n",
      "               Team  Discipline\n",
      "9   Atletico Madrid         100\n",
      "28             Roma          87\n"
     ]
    }
   ],
   "source": [
    "sorted_df = df.sort_values(by='Discipline', ascending=False)\n",
    "\n",
    "\n",
    "top_2 = sorted_df.iloc[:2][['Team', 'Discipline']]\n",
    "print(\"Top Teams\")\n",
    "print(top_2)\n"
   ]
  },
  {
   "cell_type": "code",
   "execution_count": 7,
   "id": "02fc5abf-2f86-4905-885e-27b34714ea58",
   "metadata": {},
   "outputs": [
    {
     "name": "stdout",
     "output_type": "stream",
     "text": [
      "Lowest Teams\n",
      "                 Team  Discipline\n",
      "12          Liverpool          40\n",
      "8   Borussia Dortmund          44\n"
     ]
    }
   ],
   "source": [
    "sorted_df = df.sort_values(by='Discipline', ascending=True)\n",
    "\n",
    "bottom_2 = sorted_df.iloc[:2][['Team', 'Discipline']]\n",
    "print(\"Lowest Teams\")\n",
    "print(bottom_2)\n"
   ]
  },
  {
   "cell_type": "code",
   "execution_count": 8,
   "id": "c1338c13-aa16-4dcd-8be4-402880144d11",
   "metadata": {},
   "outputs": [
    {
     "data": {
      "text/plain": [
       "Team\n",
       "Atletico Madrid    100\n",
       "Roma                87\n",
       "Name: Discipline, dtype: int64"
      ]
     },
     "execution_count": 8,
     "metadata": {},
     "output_type": "execute_result"
    }
   ],
   "source": [
    "top_team = df.groupby('Team')['Discipline'].sum().nlargest(2)\n",
    "top_team"
   ]
  },
  {
   "cell_type": "code",
   "execution_count": 9,
   "id": "a8e5b8d2-14c8-47cd-a027-999f63539f99",
   "metadata": {},
   "outputs": [
    {
     "data": {
      "text/plain": [
       "Team\n",
       "Liverpool            40\n",
       "Borussia Dortmund    44\n",
       "Name: Discipline, dtype: int64"
      ]
     },
     "execution_count": 9,
     "metadata": {},
     "output_type": "execute_result"
    }
   ],
   "source": [
    "top_team = df.groupby('Team')['Discipline'].sum().nsmallest(2)\n",
    "top_team"
   ]
  },
  {
   "cell_type": "code",
   "execution_count": 10,
   "id": "15ecaa17-cd76-49fa-bc23-ad6b63625f15",
   "metadata": {},
   "outputs": [
    {
     "data": {
      "text/plain": [
       "62.6551724137931"
      ]
     },
     "execution_count": 10,
     "metadata": {},
     "output_type": "execute_result"
    }
   ],
   "source": [
    "avg_ycards=df['Yellow Cards'].mean()\n",
    "avg_ycards"
   ]
  },
  {
   "cell_type": "code",
   "execution_count": 11,
   "id": "f4c49078-4a97-4d63-9b1c-21755948f48a",
   "metadata": {},
   "outputs": [
    {
     "data": {
      "text/plain": [
       "Team\n",
       "AC Milan                80.0\n",
       "Aston Villa             63.0\n",
       "Atalanta                66.0\n",
       "Atletico Madrid        100.0\n",
       "Barcelona               68.0\n",
       "Bayer Leverkusen        58.0\n",
       "Bayern Munich           44.0\n",
       "Borussia Dortmund       43.0\n",
       "Chelsea                 49.0\n",
       "Eintracht Frankfurt     80.0\n",
       "Everton                 59.0\n",
       "Inter                   59.0\n",
       "Juventus                76.0\n",
       "Leeds                   61.0\n",
       "Leicester               61.0\n",
       "Lille                   67.0\n",
       "Liverpool               40.0\n",
       "Lyon                    60.0\n",
       "Manchester City         46.0\n",
       "Manchester United       64.0\n",
       "Monaco                  74.0\n",
       "Napoli                  71.0\n",
       "Paris Saint-Germain     73.0\n",
       "RB Leipzig              57.0\n",
       "Real Madrid             57.0\n",
       "Roma                    84.0\n",
       "Tottenham               53.0\n",
       "West Ham                48.0\n",
       "Wolfsburg               56.0\n",
       "Name: Yellow Cards, dtype: float64"
      ]
     },
     "execution_count": 11,
     "metadata": {},
     "output_type": "execute_result"
    }
   ],
   "source": [
    "Yellow_cards=df.groupby('Team')['Yellow Cards'].mean()\n",
    "Yellow_cards"
   ]
  },
  {
   "cell_type": "code",
   "execution_count": 12,
   "id": "e328dfe5-5822-4526-b323-60f59071e793",
   "metadata": {},
   "outputs": [
    {
     "data": {
      "text/plain": [
       "Team\n",
       "AC Milan                4.0\n",
       "Aston Villa             4.0\n",
       "Atalanta                3.0\n",
       "Atletico Madrid         0.0\n",
       "Barcelona               2.0\n",
       "Bayer Leverkusen        0.0\n",
       "Bayern Munich           3.0\n",
       "Borussia Dortmund       1.0\n",
       "Chelsea                 3.0\n",
       "Eintracht Frankfurt     1.0\n",
       "Everton                 2.0\n",
       "Inter                   2.0\n",
       "Juventus                6.0\n",
       "Leeds                   1.0\n",
       "Leicester               0.0\n",
       "Lille                   2.0\n",
       "Liverpool               0.0\n",
       "Lyon                   10.0\n",
       "Manchester City         2.0\n",
       "Manchester United       1.0\n",
       "Monaco                  7.0\n",
       "Napoli                  3.0\n",
       "Paris Saint-Germain     7.0\n",
       "RB Leipzig              0.0\n",
       "Real Madrid             2.0\n",
       "Roma                    3.0\n",
       "Tottenham               2.0\n",
       "West Ham                3.0\n",
       "Wolfsburg               3.0\n",
       "Name: Red Cards, dtype: float64"
      ]
     },
     "execution_count": 12,
     "metadata": {},
     "output_type": "execute_result"
    }
   ],
   "source": [
    "Red_cards=df.groupby('Team')['Red Cards'].mean()\n",
    "Red_cards"
   ]
  },
  {
   "cell_type": "code",
   "execution_count": 13,
   "id": "f0585e99-bf9c-45fb-84c0-c16c5ba65720",
   "metadata": {},
   "outputs": [
    {
     "data": {
      "text/html": [
       "<div>\n",
       "<style scoped>\n",
       "    .dataframe tbody tr th:only-of-type {\n",
       "        vertical-align: middle;\n",
       "    }\n",
       "\n",
       "    .dataframe tbody tr th {\n",
       "        vertical-align: top;\n",
       "    }\n",
       "\n",
       "    .dataframe thead th {\n",
       "        text-align: right;\n",
       "    }\n",
       "</style>\n",
       "<table border=\"1\" class=\"dataframe\">\n",
       "  <thead>\n",
       "    <tr style=\"text-align: right;\">\n",
       "      <th></th>\n",
       "      <th>Team</th>\n",
       "      <th>Goals Scored</th>\n",
       "    </tr>\n",
       "  </thead>\n",
       "  <tbody>\n",
       "    <tr>\n",
       "      <th>0</th>\n",
       "      <td>Manchester City</td>\n",
       "      <td>83</td>\n",
       "    </tr>\n",
       "    <tr>\n",
       "      <th>1</th>\n",
       "      <td>Bayern Munich</td>\n",
       "      <td>99</td>\n",
       "    </tr>\n",
       "    <tr>\n",
       "      <th>2</th>\n",
       "      <td>Paris Saint-Germain</td>\n",
       "      <td>86</td>\n",
       "    </tr>\n",
       "  </tbody>\n",
       "</table>\n",
       "</div>"
      ],
      "text/plain": [
       "                  Team  Goals Scored\n",
       "0      Manchester City            83\n",
       "1        Bayern Munich            99\n",
       "2  Paris Saint-Germain            86"
      ]
     },
     "execution_count": 13,
     "metadata": {},
     "output_type": "execute_result"
    }
   ],
   "source": [
    "goal_scr=df[df['Goals Scored'] > 5]\n",
    "goal_team=goal_scr['Team'].nunique()\n",
    "goal_team\n",
    "team_name=goal_scr[['Team','Goals Scored']]\n",
    "team_name.head(3)\n"
   ]
  },
  {
   "cell_type": "code",
   "execution_count": 14,
   "id": "83519e22-1300-4d63-8c80-8cdcd7e19318",
   "metadata": {},
   "outputs": [
    {
     "data": {
      "text/plain": [
       "Team\n",
       "Barcelona              89.7\n",
       "Paris Saint-Germain    89.5\n",
       "Manchester City        89.4\n",
       "Juventus               88.3\n",
       "Real Madrid            87.7\n",
       "Name: Shooting Accuracy, dtype: float64"
      ]
     },
     "execution_count": 14,
     "metadata": {},
     "output_type": "execute_result"
    }
   ],
   "source": [
    "shoot_accuracy=df.groupby('Team')['Shooting Accuracy'].max()\n",
    "shoot_accuracy = shoot_accuracy.sort_values(ascending=False)\n",
    "shoot_accuracy.head()"
   ]
  },
  {
   "cell_type": "code",
   "execution_count": 18,
   "id": "cffd2445-faad-480d-9ae2-59c23ef7b8ad",
   "metadata": {},
   "outputs": [
    {
     "name": "stdout",
     "output_type": "stream",
     "text": [
      "['Juventus' 'Aston Villa' 'Liverpool' 'AC Milan' 'Lille' 'Tottenham'\n",
      " 'Wolfsburg' 'Inter' 'Lyon' 'RB Leipzig' 'Leeds' 'West Ham']teams made more fouls than their opponents\n",
      "Teams that made more fouls than their opponents\n",
      "           Team  Opponent Fouls\n",
      "6      Juventus               1\n",
      "7   Aston Villa               2\n",
      "12    Liverpool               1\n",
      "13     AC Milan               2\n",
      "14        Lille               3\n",
      "15    Tottenham               5\n",
      "18    Wolfsburg               1\n",
      "19        Inter               2\n",
      "20         Lyon               3\n",
      "21   RB Leipzig               5\n",
      "22        Leeds               6\n",
      "23     West Ham               7\n"
     ]
    }
   ],
   "source": [
    "teams_more_fouls_than_opponents=df[df['Own Fouls'] > df['Opponent Fouls']]\n",
    "num_teams_more_fouls_than_opponents = teams_more_fouls_than_opponents[\"Team\"].unique()\n",
    "print(f\"{num_teams_more_fouls_than_opponents}teams made more fouls than their opponents\")\n",
    "print(\"Teams that made more fouls than their opponents\")\n",
    "print(teams_more_fouls_tha_opponents[['Team','Opponent Fouls']])"
   ]
  }
 ],
 "metadata": {
  "kernelspec": {
   "display_name": "Python 3 (ipykernel)",
   "language": "python",
   "name": "python3"
  },
  "language_info": {
   "codemirror_mode": {
    "name": "ipython",
    "version": 3
   },
   "file_extension": ".py",
   "mimetype": "text/x-python",
   "name": "python",
   "nbconvert_exporter": "python",
   "pygments_lexer": "ipython3",
   "version": "3.12.2"
  }
 },
 "nbformat": 4,
 "nbformat_minor": 5
}
